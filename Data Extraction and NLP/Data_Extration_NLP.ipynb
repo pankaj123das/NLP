{
  "nbformat": 4,
  "nbformat_minor": 0,
  "metadata": {
    "colab": {
      "provenance": []
    },
    "kernelspec": {
      "name": "python3",
      "display_name": "Python 3"
    },
    "language_info": {
      "name": "python"
    }
  },
  "cells": [
    {
      "cell_type": "code",
      "execution_count": 1,
      "metadata": {
        "id": "4msG2_JBQUpS"
      },
      "outputs": [],
      "source": [
        "import pandas as pd\n",
        "import requests\n",
        "from bs4 import BeautifulSoup\n",
        "import os\n",
        "from nltk.tokenize import word_tokenize, sent_tokenize\n",
        "import string\n",
        "from google.colab import drive\n",
        "import re"
      ]
    },
    {
      "cell_type": "code",
      "source": [
        "import nltk\n",
        "nltk.download('punkt')"
      ],
      "metadata": {
        "colab": {
          "base_uri": "https://localhost:8080/"
        },
        "id": "Cgi0coO0Qx8p",
        "outputId": "2e395325-8aeb-4971-cf13-d959f6e4da25"
      },
      "execution_count": 2,
      "outputs": [
        {
          "output_type": "stream",
          "name": "stderr",
          "text": [
            "[nltk_data] Downloading package punkt to /root/nltk_data...\n",
            "[nltk_data]   Unzipping tokenizers/punkt.zip.\n"
          ]
        },
        {
          "output_type": "execute_result",
          "data": {
            "text/plain": [
              "True"
            ]
          },
          "metadata": {},
          "execution_count": 2
        }
      ]
    },
    {
      "cell_type": "code",
      "source": [
        "# Mount Google Drive\n",
        "drive.mount('/content/drive')"
      ],
      "metadata": {
        "colab": {
          "base_uri": "https://localhost:8080/"
        },
        "id": "h0HfWgKoQ7yf",
        "outputId": "d725f8e9-1dab-4d46-e61f-df187579b06a"
      },
      "execution_count": 3,
      "outputs": [
        {
          "output_type": "stream",
          "name": "stdout",
          "text": [
            "Mounted at /content/drive\n"
          ]
        }
      ]
    },
    {
      "cell_type": "markdown",
      "source": [
        "# Data Extraction"
      ],
      "metadata": {
        "id": "cWDkFSC0VGeV"
      }
    },
    {
      "cell_type": "code",
      "source": [
        "# Extract text from artical\n",
        "def extract_article(url):\n",
        "    response = requests.get(url)\n",
        "    if response.status_code != 200:\n",
        "        print(f\"Failed to fetch the URL: {url}\")\n",
        "        return None, None\n",
        "\n",
        "    soup = BeautifulSoup(response.content, 'html.parser')\n",
        "\n",
        "    # Extract the title\n",
        "    title = soup.find('h1').get_text()\n",
        "\n",
        "    # Extract the article text\n",
        "    article_body = soup.find('div', class_='td-post-content tagdiv-type')\n",
        "    if not article_body:\n",
        "        print(f\"Failed to find the article body for URL: {url}\")\n",
        "        return title, None\n",
        "\n",
        "    article_text = article_body.get_text(separator='\\n')\n",
        "\n",
        "    return title, article_text\n",
        "\n",
        "# save artical\n",
        "def save_article(url_id, title, text):\n",
        "    if not title or not text:\n",
        "        print(f\"Skipping URL_ID: {url_id} due to missing title or text\")\n",
        "        return\n",
        "\n",
        "    filename = f\"{url_id}.txt\"\n",
        "    with open(filename, 'w', encoding='utf-8') as file:\n",
        "        file.write(title + '\\n\\n' + text)"
      ],
      "metadata": {
        "id": "hY8ms2h_ScBA"
      },
      "execution_count": 4,
      "outputs": []
    },
    {
      "cell_type": "code",
      "source": [
        "# Read the Excel file\n",
        "input_file = '/content/drive/MyDrive/NLP Project/NLP Test Assignment/Input.xlsx'\n",
        "df = pd.read_excel(input_file)\n",
        "\n",
        "# Process each URL\n",
        "for index, row in df.iterrows():\n",
        "    url_id = row['URL_ID']\n",
        "    url = row['URL']\n",
        "    print(f\"Processing URL_ID: {url_id}, URL: {url}\")\n",
        "\n",
        "    title, text = extract_article(url)\n",
        "    save_article(url_id, title, text)\n"
      ],
      "metadata": {
        "colab": {
          "base_uri": "https://localhost:8080/"
        },
        "id": "Bhig7VELT_Fv",
        "outputId": "936fc989-e9ed-4b0d-b7fc-a57bb528135e"
      },
      "execution_count": 5,
      "outputs": [
        {
          "output_type": "stream",
          "name": "stdout",
          "text": [
            "Processing URL_ID: bctech2011, URL: https://insights.blackcoffer.com/ml-and-ai-based-insurance-premium-model-to-predict-premium-to-be-charged-by-the-insurance-company/\n",
            "Processing URL_ID: bctech2012, URL: https://insights.blackcoffer.com/streamlined-integration-interactive-brokers-api-with-python-for-desktop-trading-application/\n",
            "Processing URL_ID: bctech2013, URL: https://insights.blackcoffer.com/efficient-data-integration-and-user-friendly-interface-development-navigating-challenges-in-web-application-deployment/\n",
            "Processing URL_ID: bctech2014, URL: https://insights.blackcoffer.com/effective-management-of-social-media-data-extraction-strategies-for-authentication-security-and-reliability/\n",
            "Processing URL_ID: bctech2015, URL: https://insights.blackcoffer.com/streamlined-trading-operations-interface-for-metatrader-4-empowering-efficient-management-and-monitoring/\n",
            "Processing URL_ID: bctech2016, URL: https://insights.blackcoffer.com/efficient-aws-infrastructure-setup-and-management-addressing-security-scalability-and-compliance/\n",
            "Processing URL_ID: bctech2017, URL: https://insights.blackcoffer.com/streamlined-equity-waterfall-calculation-and-deal-management-system/\n",
            "Processing URL_ID: bctech2018, URL: https://insights.blackcoffer.com/automated-orthopedic-case-report-generation-harnessing-web-scraping-and-ai-integration/\n",
            "Processing URL_ID: bctech2019, URL: https://insights.blackcoffer.com/streamlining-time-calculation-in-warehouse-management-leveraging-shiphero-api-and-google-bigquery-integration/\n",
            "Processing URL_ID: bctech2020, URL: https://insights.blackcoffer.com/efficient-database-design-and-management-streamlining-access-and-integration-for-partner-entity-management/\n",
            "Processing URL_ID: bctech2021, URL: https://insights.blackcoffer.com/automated-campaign-management-system-a-comprehensive-solution-with-linkedin-and-email-integration/\n",
            "Processing URL_ID: bctech2022, URL: https://insights.blackcoffer.com/ai-driven-data-analysis-ai-tool-using-langchain-for-a-leading-real-estate-and-financing-firm-worldwide/\n",
            "Processing URL_ID: bctech2023, URL: https://insights.blackcoffer.com/grafana-dashboard-to-visualize-and-analyze-sensors-data/\n",
            "Processing URL_ID: bctech2024, URL: https://insights.blackcoffer.com/mvp-for-a-software-that-analyses-content-from-audio-pharma-based/\n",
            "Processing URL_ID: bctech2025, URL: https://insights.blackcoffer.com/data-engineering-and-management-tool-airbyte-with-custom-data-connectors-to-manage-crm-database/\n",
            "Processing URL_ID: bctech2026, URL: https://insights.blackcoffer.com/text-summarizing-tool-to-scrape-and-summarize-pubmed-medical-papers/\n",
            "Processing URL_ID: bctech2027, URL: https://insights.blackcoffer.com/7up7down-10updown-snakes-and-ladder-games-built-using-oops/\n",
            "Processing URL_ID: bctech2028, URL: https://insights.blackcoffer.com/data-studio-dashboard-with-a-data-pipeline-tool-synced-with-podio-using-custom-webhooks-and-google-cloud-function/\n",
            "Processing URL_ID: bctech2029, URL: https://insights.blackcoffer.com/end-to-end-tool-to-optimize-routing-and-planning-of-field-engineers-using-googles-cvrp-tw-algorithm/\n",
            "Processing URL_ID: bctech2030, URL: https://insights.blackcoffer.com/end-to-end-tool-to-predict-biofuel-prices-using-ieso-data/\n",
            "Processing URL_ID: bctech2031, URL: https://insights.blackcoffer.com/etl-discovery-tool-using-llma-langchain-openai/\n",
            "Processing URL_ID: bctech2032, URL: https://insights.blackcoffer.com/gpt-ocr-api/\n",
            "Processing URL_ID: bctech2033, URL: https://insights.blackcoffer.com/dockerize-the-aws-lambda-for-serverless-architecture/\n",
            "Processing URL_ID: bctech2034, URL: https://insights.blackcoffer.com/design-and-develop-a-product-recommendation-engine-based-on-the-features-of-products/\n",
            "Processing URL_ID: bctech2035, URL: https://insights.blackcoffer.com/database-discovery-tool-using-openai/\n",
            "Processing URL_ID: bctech2036, URL: https://insights.blackcoffer.com/automate-the-data-management-process/\n",
            "Processing URL_ID: bctech2037, URL: https://insights.blackcoffer.com/realtime-kibana-dashboard-for-a-financial-tech-firm/\n",
            "Processing URL_ID: bctech2038, URL: https://insights.blackcoffer.com/data-management-etl-and-data-automation/\n",
            "Processing URL_ID: bctech2039, URL: https://insights.blackcoffer.com/data-management-egeas/\n",
            "Processing URL_ID: bctech2040, URL: https://insights.blackcoffer.com/design-and-develop-powershell-script/\n",
            "Processing URL_ID: bctech2041, URL: https://insights.blackcoffer.com/design-and-develop-jenkins-shared-library/\n",
            "Processing URL_ID: bctech2042, URL: https://insights.blackcoffer.com/design-and-develop-retool-app-for-wholecell-io-and-asana-data-using-their-apis/\n",
            "Processing URL_ID: bctech2043, URL: https://insights.blackcoffer.com/design-and-develop-a-retool-app-that-will-show-stock-and-crypto-related-information-using-iex-api/\n",
            "Processing URL_ID: bctech2044, URL: https://insights.blackcoffer.com/crm-monday-com-make-com-to-data-warehouse-to-klipfolio-dashboard/\n",
            "Processing URL_ID: bctech2045, URL: https://insights.blackcoffer.com/ner-task-using-bert-with-data-in-xml-format/\n",
            "Processing URL_ID: bctech2046, URL: https://insights.blackcoffer.com/qualtrics-api-integration-using-python/\n",
            "Processing URL_ID: bctech2047, URL: https://insights.blackcoffer.com/design-and-develop-mlops-framework-for-data-centric-ai/\n",
            "Processing URL_ID: bctech2048, URL: https://insights.blackcoffer.com/nlp-based-approach-for-data-transformation/\n",
            "Processing URL_ID: bctech2049, URL: https://insights.blackcoffer.com/an-etl-tool-to-pull-data-from-shiphero-to-google-bigquery-data-warehouse/\n",
            "Processing URL_ID: bctech2050, URL: https://insights.blackcoffer.com/plaid-financial-analytics-a-data-driven-dashboard-to-generate-insights/\n",
            "Processing URL_ID: bctech2051, URL: https://insights.blackcoffer.com/recommendation-engine-for-insurance-sector-to-expand-business-in-the-rural-area/\n",
            "Processing URL_ID: bctech2052, URL: https://insights.blackcoffer.com/data-from-crm-via-zapier-to-google-sheets-dynamic-to-powerbi/\n",
            "Processing URL_ID: bctech2053, URL: https://insights.blackcoffer.com/data-warehouse-to-google-data-studio-looker-dashboard/\n",
            "Processing URL_ID: bctech2054, URL: https://insights.blackcoffer.com/crm-monday-com-via-zapier-to-power-bi-dashboard/\n",
            "Processing URL_ID: bctech2055, URL: https://insights.blackcoffer.com/monday-com-to-kpi-dashboard-to-manage-view-and-generate-insights-from-the-crm-data/\n",
            "Processing URL_ID: bctech2056, URL: https://insights.blackcoffer.com/data-management-for-a-political-saas-application/\n",
            "Processing URL_ID: bctech2057, URL: https://insights.blackcoffer.com/google-lsa-ads-google-local-service-ads-etl-tools-and-dashboards/\n",
            "Processing URL_ID: bctech2058, URL: https://insights.blackcoffer.com/ad-networks-marketing-campaign-data-dashboard-in-looker-google-data-studio/\n",
            "Processing URL_ID: bctech2059, URL: https://insights.blackcoffer.com/analytical-solution-for-a-tech-firm/\n",
            "Processing URL_ID: bctech2060, URL: https://insights.blackcoffer.com/ai-solution-for-a-technology-information-and-internet-firm/\n",
            "Processing URL_ID: bctech2061, URL: https://insights.blackcoffer.com/ai-and-nlp-based-solutions-to-automate-data-discovery-for-venture-capital-and-private-equity-principals/\n",
            "Processing URL_ID: bctech2062, URL: https://insights.blackcoffer.com/an-etl-solution-for-an-internet-publishing-firm/\n",
            "Processing URL_ID: bctech2063, URL: https://insights.blackcoffer.com/ai-based-algorithmic-trading-bot-for-forex/\n",
            "Processing URL_ID: bctech2064, URL: https://insights.blackcoffer.com/equity-waterfalls-model-based-saas-application-for-real-estate-sector/\n",
            "Processing URL_ID: bctech2065, URL: https://insights.blackcoffer.com/ai-solutions-for-foreign-exchange-an-automated-algo-trading-tool/\n",
            "Processing URL_ID: bctech2066, URL: https://insights.blackcoffer.com/ai-agent-development-and-deployment-in-jina-ai/\n",
            "Processing URL_ID: bctech2067, URL: https://insights.blackcoffer.com/golden-record-a-knowledge-graph-database-approach-to-unfold-discovery-using-neo4j/\n",
            "Processing URL_ID: bctech2068, URL: https://insights.blackcoffer.com/advanced-ai-for-trading-automation/\n",
            "Processing URL_ID: bctech2069, URL: https://insights.blackcoffer.com/create-a-knowledge-graph-to-provide-real-time-analytics-recommendations-and-a-single-source-of-truth/\n",
            "Processing URL_ID: bctech2070, URL: https://insights.blackcoffer.com/advanced-ai-for-thermal-person-detection/\n",
            "Processing URL_ID: bctech2071, URL: https://insights.blackcoffer.com/advanced-ai-for-road-cam-threat-detection/\n",
            "Processing URL_ID: bctech2072, URL: https://insights.blackcoffer.com/advanced-ai-for-pedestrian-crossing-safety/\n",
            "Processing URL_ID: bctech2073, URL: https://insights.blackcoffer.com/handgun-detection-using-yolo/\n",
            "Processing URL_ID: bctech2074, URL: https://insights.blackcoffer.com/using-graph-technology-to-create-single-customer-view/\n",
            "Processing URL_ID: bctech2075, URL: https://insights.blackcoffer.com/car-detection-in-satellite-images/\n",
            "Processing URL_ID: bctech2076, URL: https://insights.blackcoffer.com/building-a-physics-informed-neural-network-for-circuit-evaluation/\n",
            "Processing URL_ID: bctech2077, URL: https://insights.blackcoffer.com/connecting-mongodb-database-to-power-bi-dashboard-dashboard-automation/\n",
            "Processing URL_ID: bctech2078, URL: https://insights.blackcoffer.com/data-transformation/\n",
            "Processing URL_ID: bctech2079, URL: https://insights.blackcoffer.com/e-commerce-store-analysis-purchase-behavior-ad-spend-conversion-traffic-etc/\n",
            "Processing URL_ID: bctech2080, URL: https://insights.blackcoffer.com/kpi-dashboard-for-accountants/\n",
            "Processing URL_ID: bctech2081, URL: https://insights.blackcoffer.com/return-on-advertising-spend-dashboard-marketing-automation-and-analytics-using-etl-and-dashboard/\n",
            "Processing URL_ID: bctech2082, URL: https://insights.blackcoffer.com/ranking-customer-behaviours-for-business-strategy/\n",
            "Processing URL_ID: bctech2083, URL: https://insights.blackcoffer.com/algorithmic-trading-for-multiple-commodities-markets-like-forex-metals-energy-etc/\n",
            "Processing URL_ID: bctech2084, URL: https://insights.blackcoffer.com/trading-bot-for-forex/\n",
            "Processing URL_ID: bctech2085, URL: https://insights.blackcoffer.com/python-model-for-the-analysis-of-sector-specific-stock-etfs-for-investment-purposes%ef%bf%bc/\n",
            "Processing URL_ID: bctech2086, URL: https://insights.blackcoffer.com/medical-classification/\n",
            "Processing URL_ID: bctech2087, URL: https://insights.blackcoffer.com/design-develop-bert-question-answering-model-explanations-with-visualization/\n",
            "Processing URL_ID: bctech2088, URL: https://insights.blackcoffer.com/design-and-develop-solution-to-anomaly-detection-classification-problems/\n",
            "Processing URL_ID: bctech2089, URL: https://insights.blackcoffer.com/an-etl-solution-for-currency-data-to-google-big-query/\n",
            "Processing URL_ID: bctech2090, URL: https://insights.blackcoffer.com/etl-and-mlops-infrastructure-for-blockchain-analytics/\n",
            "Processing URL_ID: bctech2091, URL: https://insights.blackcoffer.com/an-agent-based-model-of-a-virtual-power-plant-vpp/\n",
            "Processing URL_ID: bctech2092, URL: https://insights.blackcoffer.com/transform-api-into-sdk-library-and-widget/\n",
            "Processing URL_ID: bctech2093, URL: https://insights.blackcoffer.com/integration-of-a-product-to-a-cloud-based-crm-platform/\n",
            "Processing URL_ID: bctech2094, URL: https://insights.blackcoffer.com/a-web-based-dashboard-for-the-filtered-data-retrieval-of-land-records/\n",
            "Processing URL_ID: bctech2095, URL: https://insights.blackcoffer.com/integration-of-video-conferencing-data-to-the-existing-web-app/\n",
            "Processing URL_ID: bctech2096, URL: https://insights.blackcoffer.com/design-develop-an-app-in-retool-which-shows-the-progress-of-the-added-video/\n",
            "Processing URL_ID: bctech2097, URL: https://insights.blackcoffer.com/auvik-connectwise-integration-in-grafana/\n",
            "Processing URL_ID: bctech2098, URL: https://insights.blackcoffer.com/data-integration-and-big-data-performance-using-elk-stack/\n",
            "Processing URL_ID: bctech2099, URL: https://insights.blackcoffer.com/web-data-connector/\n",
            "Processing URL_ID: bctech2100, URL: https://insights.blackcoffer.com/an-app-for-updating-the-email-id-of-the-user-and-stripe-refund-tool-using-retool/\n",
            "Processing URL_ID: bctech2101, URL: https://insights.blackcoffer.com/an-ai-ml-based-web-application-that-detects-the-correctness-of-text-in-a-given-video/\n",
            "Processing URL_ID: bctech2102, URL: https://insights.blackcoffer.com/website-tracking-and-insights-using-google-analytics-google-tag-manager/\n",
            "Processing URL_ID: bctech2103, URL: https://insights.blackcoffer.com/dashboard-to-track-the-analytics-of-the-website-using-google-analytics-and-google-tag-manager/\n",
            "Processing URL_ID: bctech2104, URL: https://insights.blackcoffer.com/power-bi-dashboard-on-operations-transactions-and-marketing-embedding-the-dashboard-to-web-app/\n",
            "Processing URL_ID: bctech2105, URL: https://insights.blackcoffer.com/nft-data-automation-looksrare-and-etl-tool/\n",
            "Processing URL_ID: bctech2106, URL: https://insights.blackcoffer.com/optimize-the-data-scraper-program-to-easily-accommodate-large-files-and-solve-oom-errors/\n",
            "Processing URL_ID: bctech2107, URL: https://insights.blackcoffer.com/making-a-robust-way-to-sync-data-from-airtables-to-mongodb-using-python-etl-solution/\n",
            "Processing URL_ID: bctech2108, URL: https://insights.blackcoffer.com/incident-duration-prediction-infrastructure-and-real-estate/\n",
            "Processing URL_ID: bctech2109, URL: https://insights.blackcoffer.com/statistical-data-analysis-of-reinforced-concrete/\n",
            "Processing URL_ID: bctech2110, URL: https://insights.blackcoffer.com/database-normalization-segmentation-with-google-data-studio-dashboard-insights/\n",
            "Processing URL_ID: bctech2111, URL: https://insights.blackcoffer.com/power-bi-dashboard-to-drive-insights-from-complex-data-to-generate-business-insights/\n",
            "Processing URL_ID: bctech2112, URL: https://insights.blackcoffer.com/real-time-dashboard-to-monitor-infrastructure-activity-and-machines/\n",
            "Processing URL_ID: bctech2113, URL: https://insights.blackcoffer.com/electric-vehicles-ev-load-management-system-to-forecast-energy-demand/\n",
            "Processing URL_ID: bctech2114, URL: https://insights.blackcoffer.com/power-bi-data-driven-map-dashboard/\n",
            "Processing URL_ID: bctech2115, URL: https://insights.blackcoffer.com/google-local-service-ads-lsa-leads-dashboard/\n",
            "Processing URL_ID: bctech2116, URL: https://insights.blackcoffer.com/aws-lex-voice-and-chatbot/\n",
            "Processing URL_ID: bctech2117, URL: https://insights.blackcoffer.com/metabridges-api-decentraland-integration/\n",
            "Processing URL_ID: bctech2118, URL: https://insights.blackcoffer.com/microsoft-azure-chatbot-with-luis-language-understanding/\n",
            "Processing URL_ID: bctech2119, URL: https://insights.blackcoffer.com/impact-of-news-media-and-press-on-innovation-startups-and-investments/\n",
            "Processing URL_ID: bctech2120, URL: https://insights.blackcoffer.com/aws-quicksight-reporting-dashboard/\n",
            "Processing URL_ID: bctech2121, URL: https://insights.blackcoffer.com/google-data-studio-dashboard-for-marketing-ads-and-traction-data/\n",
            "Processing URL_ID: bctech2122, URL: https://insights.blackcoffer.com/gangala-in-e-commerce-big-data-etl-elt-solution-and-data-warehouse/\n",
            "Processing URL_ID: bctech2123, URL: https://insights.blackcoffer.com/big-data-solution-to-an-online-multivendor-marketplace-ecommerce-business/\n",
            "Processing URL_ID: bctech2124, URL: https://insights.blackcoffer.com/creating-a-custom-report-and-dashboard-using-the-data-got-from-atera-api/\n",
            "Processing URL_ID: bctech2125, URL: https://insights.blackcoffer.com/azure-data-lake-and-power-bi-dashboard/\n",
            "Processing URL_ID: bctech2126, URL: https://insights.blackcoffer.com/google-data-studio-pipeline-with-gcp-mysql/\n",
            "Processing URL_ID: bctech2127, URL: https://insights.blackcoffer.com/quickbooks-dashboard-to-find-patterns-in-finance-sales-and-forecasts/\n",
            "Processing URL_ID: bctech2128, URL: https://insights.blackcoffer.com/marketing-sales-and-financial-data-business-dashboard-wink-report/\n",
            "Processing URL_ID: bctech2129, URL: https://insights.blackcoffer.com/react-native-apps-in-the-development-portfolio/\n",
            "Processing URL_ID: bctech2130, URL: https://insights.blackcoffer.com/a-leading-firm-website-seo-optimization/\n",
            "Processing URL_ID: bctech2131, URL: https://insights.blackcoffer.com/a-leading-hospitality-firm-in-the-usa-website-seo-optimization/\n",
            "Processing URL_ID: bctech2132, URL: https://insights.blackcoffer.com/a-leading-firm-in-the-usa-website-seo-optimization/\n",
            "Processing URL_ID: bctech2133, URL: https://insights.blackcoffer.com/a-leading-musical-instrumental-website-seo-optimization/\n",
            "Processing URL_ID: bctech2134, URL: https://insights.blackcoffer.com/a-leading-firm-in-the-usa-seo-and-website-optimization/\n",
            "Processing URL_ID: bctech2135, URL: https://insights.blackcoffer.com/immigration-datawarehouse-ai-based-recommendations/\n",
            "Processing URL_ID: bctech2136, URL: https://insights.blackcoffer.com/lipsync-automation-for-celebrities-and-influencers/\n",
            "Processing URL_ID: bctech2137, URL: https://insights.blackcoffer.com/key-audit-matters-predictive-modeling/\n",
            "Processing URL_ID: bctech2138, URL: https://insights.blackcoffer.com/splitting-of-songs-into-its-vocals-and-instrumental/\n",
            "Processing URL_ID: bctech2139, URL: https://insights.blackcoffer.com/ai-and-ml-technologies-to-evaluate-learning-assessments/\n",
            "Processing URL_ID: bctech2140, URL: https://insights.blackcoffer.com/datawarehouse-and-recommendations-engine-for-airbnb/\n",
            "Processing URL_ID: bctech2141, URL: https://insights.blackcoffer.com/real-estate-data-warehouse/\n",
            "Processing URL_ID: bctech2142, URL: https://insights.blackcoffer.com/traction-dashboards-of-marketing-campaigns-and-posts/\n",
            "Processing URL_ID: bctech2143, URL: https://insights.blackcoffer.com/google-local-service-ads-lsa-data-warehouse/\n",
            "Processing URL_ID: bctech2144, URL: https://insights.blackcoffer.com/google-local-service-ads-missed-calls-and-messages-automation-tool/\n",
            "Processing URL_ID: bctech2145, URL: https://insights.blackcoffer.com/marketing-ads-leads-call-status-data-tool-to-bigquery/\n",
            "Processing URL_ID: bctech2146, URL: https://insights.blackcoffer.com/marketing-analytics-to-automate-leads-call-status-and-reporting/\n",
            "Processing URL_ID: bctech2147, URL: https://insights.blackcoffer.com/callrail-analytics-leads-report-alert/\n",
            "Processing URL_ID: bctech2148, URL: https://insights.blackcoffer.com/marketing-automation-tool-to-notify-lead-details-to-clients-over-email-and-phone/\n",
            "Processing URL_ID: bctech2149, URL: https://insights.blackcoffer.com/data-etl-local-service-ads-leads-to-bigquery/\n",
            "Processing URL_ID: bctech2150, URL: https://insights.blackcoffer.com/marbles-stimulation-using-python/\n",
            "Processing URL_ID: bctech2151, URL: https://insights.blackcoffer.com/stocktwits-data-structurization/\n",
            "Processing URL_ID: bctech2152, URL: https://insights.blackcoffer.com/sentimental-analysis-on-shareholder-letter-of-companies/\n",
            "Processing URL_ID: bctech2153, URL: https://insights.blackcoffer.com/population-and-community-survey-of-america/\n",
            "Processing URL_ID: bctech2154, URL: https://insights.blackcoffer.com/google-lsa-api-data-automation-and-dashboarding/\n",
            "Processing URL_ID: bctech2155, URL: https://insights.blackcoffer.com/healthcare-data-analysis/\n",
            "Processing URL_ID: bctech2156, URL: https://insights.blackcoffer.com/budget-sales-kpi-dashboard-using-power-bi/\n",
            "Processing URL_ID: bctech2157, URL: https://insights.blackcoffer.com/amazon-buy-bot-an-automation-ai-tool-to-auto-checkouts/\n"
          ]
        }
      ]
    },
    {
      "cell_type": "code",
      "source": [
        "# we have put all saved extracted file in a folder name Extracted_text in project folder."
      ],
      "metadata": {
        "id": "1eAzXd4NUigS"
      },
      "execution_count": 16,
      "outputs": []
    },
    {
      "cell_type": "markdown",
      "source": [
        "# Text Analysis using NLP"
      ],
      "metadata": {
        "id": "7TgEW5PiVb_A"
      }
    },
    {
      "cell_type": "code",
      "source": [
        "# Load stop words\n",
        "def load_stop_words(stopwords_dir):\n",
        "    stopwords = set()\n",
        "    for filename in os.listdir(stopwords_dir):\n",
        "        if filename.endswith('.txt'):\n",
        "            with open(os.path.join(stopwords_dir, filename), 'r', encoding='iso-8859-1') as file:\n",
        "                for line in file:\n",
        "                    stopwords.add(line.strip().lower())\n",
        "    return stopwords"
      ],
      "metadata": {
        "id": "oJkPF45dVoXn"
      },
      "execution_count": 6,
      "outputs": []
    },
    {
      "cell_type": "code",
      "source": [
        "# Path to the StopWords folder\n",
        "stopwords_dir = '/content/drive/MyDrive/NLP Project/NLP Test Assignment/StopWords'\n",
        "stopwords = load_stop_words(stopwords_dir)"
      ],
      "metadata": {
        "id": "a01ltxywcZOd"
      },
      "execution_count": 18,
      "outputs": []
    },
    {
      "cell_type": "code",
      "source": [
        "# load master dictionary\n",
        "def load_master_dictionary(master_dict_dir):\n",
        "    positive_words = set()\n",
        "    negative_words = set()\n",
        "\n",
        "    with open(os.path.join(master_dict_dir, 'positive-words.txt'), 'r', encoding='iso-8859-1') as file:\n",
        "        for line in file:\n",
        "            if line.strip() and not line.startswith(';'):\n",
        "                positive_words.add(line.strip().lower())\n",
        "\n",
        "    with open(os.path.join(master_dict_dir, 'negative-words.txt'), 'r', encoding='iso-8859-1') as file:\n",
        "        for line in file:\n",
        "            if line.strip() and not line.startswith(';'):\n",
        "                negative_words.add(line.strip().lower())\n",
        "\n",
        "    return positive_words, negative_words"
      ],
      "metadata": {
        "id": "U-kyqqZiWGIr"
      },
      "execution_count": 7,
      "outputs": []
    },
    {
      "cell_type": "code",
      "source": [
        "master_dict_dir = '/content/drive/MyDrive/NLP Project/NLP Test Assignment/MasterDictionary'\n",
        "positive_words, negative_words = load_master_dictionary(master_dict_dir)"
      ],
      "metadata": {
        "id": "idfLLDC1c1yS"
      },
      "execution_count": 19,
      "outputs": []
    },
    {
      "cell_type": "code",
      "source": [
        "def clean_text(text, stopwords):\n",
        "    tokens = word_tokenize(text)\n",
        "    cleaned_tokens = [token.lower() for token in tokens if token.lower() not in stopwords and token.isalpha()]\n",
        "    return cleaned_tokens"
      ],
      "metadata": {
        "id": "M7lnmEnuWLTy"
      },
      "execution_count": 8,
      "outputs": []
    },
    {
      "cell_type": "code",
      "source": [
        "def calculate_scores(tokens, positive_words, negative_words):\n",
        "    positive_score = sum(1 for token in tokens if token in positive_words)\n",
        "    negative_score = sum(1 for token in tokens if token in negative_words)\n",
        "\n",
        "    polarity_score = (positive_score - negative_score) / ((positive_score + negative_score) + 0.000001)\n",
        "    subjectivity_score = (positive_score + negative_score) / (len(tokens) + 0.000001)\n",
        "\n",
        "    return positive_score, negative_score, polarity_score, subjectivity_score"
      ],
      "metadata": {
        "id": "ckY3gGDSWP4i"
      },
      "execution_count": 9,
      "outputs": []
    },
    {
      "cell_type": "code",
      "source": [
        "def syllable_count(word):\n",
        "    word = word.lower()\n",
        "    count = len(re.findall(r'[aeiouy]', word))\n",
        "    if word.endswith(('es', 'ed')) and len(word) > 2:\n",
        "        count -= 1\n",
        "    return count if count > 0 else 1"
      ],
      "metadata": {
        "id": "cdbo8b-2WTai"
      },
      "execution_count": 10,
      "outputs": []
    },
    {
      "cell_type": "code",
      "source": [
        "def analyze_readability(text):\n",
        "    sentences = sent_tokenize(text)\n",
        "    words = [word for word in word_tokenize(text) if word.isalpha()]\n",
        "\n",
        "    avg_sentence_length = len(words) / len(sentences)\n",
        "    complex_word_count = sum(1 for word in words if syllable_count(word) > 2)\n",
        "    percentage_complex_words = complex_word_count / len(words)\n",
        "    fog_index = 0.4 * (avg_sentence_length + percentage_complex_words)\n",
        "\n",
        "    return avg_sentence_length, percentage_complex_words, fog_index, complex_word_count, len(words)"
      ],
      "metadata": {
        "id": "cWNoYIEzWa-J"
      },
      "execution_count": 11,
      "outputs": []
    },
    {
      "cell_type": "code",
      "source": [
        "def count_personal_pronouns(text):\n",
        "    pronouns = re.findall(r'\\b(I|we|my|ours|us)\\b', text, re.IGNORECASE)\n",
        "    return len(pronouns)\n"
      ],
      "metadata": {
        "id": "zk4mSDAAWgJK"
      },
      "execution_count": 12,
      "outputs": []
    },
    {
      "cell_type": "code",
      "source": [
        "def average_word_length(text):\n",
        "    words = [word for word in word_tokenize(text) if word.isalpha()]\n",
        "    return sum(len(word) for word in words) / len(words)"
      ],
      "metadata": {
        "id": "dwt3AtXGWl3T"
      },
      "execution_count": 13,
      "outputs": []
    },
    {
      "cell_type": "code",
      "source": [
        "# Output DataFrame\n",
        "output_columns = [\n",
        "    'URL_ID','URL', 'POSITIVE SCORE', 'NEGATIVE SCORE', 'POLARITY SCORE', 'SUBJECTIVITY SCORE',\n",
        "    'AVG SENTENCE LENGTH', 'PERCENTAGE OF COMPLEX WORDS', 'FOG INDEX','AVG NUMBER OF WORDS PER SENTENCE', 'COMPLEX WORD COUNT',\n",
        "    'WORD COUNT', 'SYLLABLE PER WORD', 'PERSONAL PRONOUNS', 'AVG WORD LENGTH'\n",
        "]\n",
        "output_df = pd.DataFrame(columns=output_columns)"
      ],
      "metadata": {
        "id": "k-Mw2pGPWqki"
      },
      "execution_count": 15,
      "outputs": []
    },
    {
      "cell_type": "code",
      "source": [
        "# Set project folder path\n",
        "project_folder = '/content/drive/MyDrive/NLP Project/NLP Test Assignment'\n",
        "extracted_text_dir = os.path.join(project_folder, 'Extracted_text')"
      ],
      "metadata": {
        "id": "PX2poFQdZSmt"
      },
      "execution_count": 17,
      "outputs": []
    },
    {
      "cell_type": "code",
      "source": [
        "# Process each URL\n",
        "for index, row in df.iterrows():\n",
        "    url_id = row['URL_ID']\n",
        "    url = row['URL']\n",
        "\n",
        "    text_path = os.path.join(extracted_text_dir, f\"{url_id}.txt\")\n",
        "    with open(text_path, 'r', encoding='utf-8', errors='ignore') as file:\n",
        "        text_content = file.read()\n",
        "\n",
        "    cleaned_tokens = clean_text(text_content, stopwords)\n",
        "    positive_score, negative_score, polarity_score, subjectivity_score = calculate_scores(cleaned_tokens, positive_words, negative_words)\n",
        "\n",
        "    avg_sentence_length, perc_complex_words, fog_index, complex_word_count, word_count = analyze_readability(text_content)\n",
        "    personal_pronouns = count_personal_pronouns(text_content)\n",
        "    avg_word_length = average_word_length(text_content)\n",
        "\n",
        "    new_row = pd.DataFrame({\n",
        "            'URL_ID': [url_id],\n",
        "            'URL':[url],\n",
        "            'Positive Score': [positive_score],\n",
        "            'Negative Score': [negative_score],\n",
        "            'Polarity Score': [polarity_score],\n",
        "            'Subjectivity Score': [subjectivity_score],\n",
        "            'Average Sentence Length': [avg_sentence_length],\n",
        "            'Percentage of Complex Words': [perc_complex_words],\n",
        "            'Fog Index': [fog_index],\n",
        "            'Complex Word Count': [complex_word_count],\n",
        "            'Word Count': [word_count],\n",
        "            'Syllable Count': [sum(syllable_count(word) for word in cleaned_tokens)],\n",
        "            'Personal Pronouns': [personal_pronouns],\n",
        "            'Average Word Length': [avg_word_length]\n",
        "        })\n",
        "\n",
        "    # Concatenate the new row to the output DataFrame\n",
        "    output_df = pd.concat([output_df, new_row], ignore_index=True)\n",
        "\n",
        "# Save the output DataFrame to an Excel file\n",
        "# determining the name of the file\n",
        "file_name = 'Output Data Structure.xlsx'\n",
        "\n",
        "# saving the excel\n",
        "output_df.to_excel(file_name)"
      ],
      "metadata": {
        "id": "MG_5TbQJXJsz"
      },
      "execution_count": 20,
      "outputs": []
    },
    {
      "cell_type": "code",
      "source": [],
      "metadata": {
        "id": "sFKAIqmkeBj8"
      },
      "execution_count": null,
      "outputs": []
    }
  ]
}